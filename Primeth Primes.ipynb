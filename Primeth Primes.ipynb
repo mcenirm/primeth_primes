{
 "cells": [
  {
   "cell_type": "code",
   "execution_count": 1,
   "metadata": {
    "collapsed": true
   },
   "outputs": [],
   "source": [
    "def gen_primes():\n",
    "    \"\"\" Generate an infinite sequence of prime numbers.\n",
    "    http://stackoverflow.com/a/568618\n",
    "    \"\"\"\n",
    "    # Maps composites to primes witnessing their compositeness.\n",
    "    # This is memory efficient, as the sieve is not \"run forward\"\n",
    "    # indefinitely, but only as long as required by the current\n",
    "    # number being tested.\n",
    "    #\n",
    "    D = {}\n",
    "    \n",
    "    # The running integer that's checked for primeness\n",
    "    q = 2\n",
    "    \n",
    "    while True:\n",
    "        if q not in D:\n",
    "            # q is a new prime.\n",
    "            # Yield it and mark its first multiple that isn't\n",
    "            # already marked in previous iterations\n",
    "            # \n",
    "            yield q\n",
    "            D[q * q] = [q]\n",
    "        else:\n",
    "            # q is composite. D[q] is the list of primes that\n",
    "            # divide it. Since we've reached q, we no longer\n",
    "            # need it in the map, but we'll mark the next \n",
    "            # multiples of its witnesses to prepare for larger\n",
    "            # numbers\n",
    "            # \n",
    "            for p in D[q]:\n",
    "                D.setdefault(p + q, []).append(p)\n",
    "            del D[q]\n",
    "        \n",
    "        q += 1\n"
   ]
  },
  {
   "cell_type": "code",
   "execution_count": 2,
   "metadata": {
    "collapsed": true
   },
   "outputs": [],
   "source": [
    "def gen_primeth_primes():\n",
    "    \"\"\"A006450 Prime-indexed primes: primes with prime subscripts.\n",
    "    http://oeis.org/A006450\n",
    "    \"\"\"\n",
    "    primes_so_far = 0\n",
    "    prime_generator = gen_primes()\n",
    "    for prime_index in gen_primes():\n",
    "        while primes_so_far < prime_index:\n",
    "            prime = next(prime_generator)\n",
    "            primes_so_far += 1\n",
    "        yield prime\n",
    "        "
   ]
  },
  {
   "cell_type": "code",
   "execution_count": 3,
   "metadata": {
    "collapsed": false
   },
   "outputs": [
    {
     "name": "stdout",
     "output_type": "stream",
     "text": [
      "3, 5, 11, 17, 31, 41, 59, 67, 83, 109\n"
     ]
    }
   ],
   "source": [
    "import itertools\n",
    "print(', '.join(map(str,itertools.islice(gen_primeth_primes(), 10))))"
   ]
  },
  {
   "cell_type": "code",
   "execution_count": null,
   "metadata": {
    "collapsed": true
   },
   "outputs": [],
   "source": []
  }
 ],
 "metadata": {
  "kernelspec": {
   "display_name": "Python 3",
   "language": "python",
   "name": "python3"
  },
  "language_info": {
   "codemirror_mode": {
    "name": "ipython",
    "version": 3
   },
   "file_extension": ".py",
   "mimetype": "text/x-python",
   "name": "python",
   "nbconvert_exporter": "python",
   "pygments_lexer": "ipython3",
   "version": "3.6.0"
  }
 },
 "nbformat": 4,
 "nbformat_minor": 2
}
